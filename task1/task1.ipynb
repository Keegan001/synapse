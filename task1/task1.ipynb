{
  "nbformat": 4,
  "nbformat_minor": 0,
  "metadata": {
    "colab": {
      "provenance": [],
      "toc_visible": true
    },
    "kernelspec": {
      "name": "python3",
      "display_name": "Python 3"
    },
    "language_info": {
      "name": "python"
    }
  },
  "cells": [
    {
      "cell_type": "markdown",
      "source": [
        "##1.1"
      ],
      "metadata": {
        "id": "S-gD_xciMUsF"
      }
    },
    {
      "cell_type": "code",
      "execution_count": 1,
      "metadata": {
        "colab": {
          "base_uri": "https://localhost:8080/"
        },
        "id": "G33KaWoDMOYW",
        "outputId": "a9b95cef-f7d5-4b1e-804a-f5ea6c64485a"
      },
      "outputs": [
        {
          "output_type": "stream",
          "name": "stdout",
          "text": [
            "Indices: [0, 1, 2, 3, 4]\n",
            "Decoded Names: ['doctor strange', 'spiderman', 'moon knight', 'captain america', 'hulk']\n"
          ]
        }
      ],
      "source": [
        "jumbled_superheroes=['DocTor_StRanGe','sPiDerMan','Moon_Knight','captAIN_aMeRica','hULK']\n",
        "indices = []\n",
        "decoded_names = []\n",
        "\n",
        "for index, superhero in enumerate(jumbled_superheroes):\n",
        "    indices.append(index)\n",
        "    decoded_names.append(superhero.lower().replace(\"_\", \" \"))\n",
        "\n",
        "print(\"Indices:\", indices)\n",
        "print(\"Decoded Names:\", decoded_names)"
      ]
    },
    {
      "cell_type": "code",
      "source": [
        "get_length = lambda sequence: len(sequence)\n",
        "name_lengths = list(map(get_length, decoded_names))\n",
        "indices.sort(key=lambda index: name_lengths[index])\n",
        "sorted_guest_list = [decoded_names[index] for index in indices]\n",
        "\n",
        "print(\"Sorted Guest List:\")\n",
        "for superhero in sorted_guest_list:\n",
        "    print(superhero.title())"
      ],
      "metadata": {
        "colab": {
          "base_uri": "https://localhost:8080/"
        },
        "id": "TSR46bDaMcoH",
        "outputId": "e3fab52c-0f4e-4dfc-b3a2-9df1153beb8a"
      },
      "execution_count": 2,
      "outputs": [
        {
          "output_type": "stream",
          "name": "stdout",
          "text": [
            "Sorted Guest List:\n",
            "Hulk\n",
            "Spiderman\n",
            "Moon Knight\n",
            "Doctor Strange\n",
            "Captain America\n"
          ]
        }
      ]
    },
    {
      "cell_type": "markdown",
      "source": [
        "##1.2"
      ],
      "metadata": {
        "id": "NszyKDMlMizb"
      }
    },
    {
      "cell_type": "code",
      "source": [
        "binary_no = []\n",
        "n=int(input('Enter number of binary numbers:'))\n",
        "print('lst[]:')\n",
        "for i in range(0,n):\n",
        "    element=int(input(),2)\n",
        "    binary_no.append(element)\n",
        "\n",
        "print(binary_no)\n"
      ],
      "metadata": {
        "colab": {
          "base_uri": "https://localhost:8080/"
        },
        "id": "f-WXd-XCMhEU",
        "outputId": "acfbc996-3bb6-4267-8761-6bfb977c7a44"
      },
      "execution_count": 2,
      "outputs": [
        {
          "output_type": "stream",
          "name": "stdout",
          "text": [
            "Enter number of binary numbers:4\n",
            "lst[]:\n",
            "1000\n",
            "0100\n",
            "1011\n",
            "1111\n",
            "[8, 4, 11, 15]\n"
          ]
        }
      ]
    },
    {
      "cell_type": "code",
      "source": [
        "def least_difference_pair(lst):\n",
        "    decimal_list = lst\n",
        "\n",
        "\n",
        "    while len(decimal_list) > 2:\n",
        "        decimal_list.sort()\n",
        "        smallest1 = decimal_list.pop(0)\n",
        "        smallest2 = decimal_list.pop(0)\n",
        "        sum_smallest = smallest1 + smallest2\n",
        "        decimal_list.append(sum_smallest)\n",
        "\n",
        "    decimal_list.sort()\n",
        "\n",
        "    return decimal_list\n",
        "\n",
        "result = least_difference_pair(binary_no)\n",
        "print(result)"
      ],
      "metadata": {
        "colab": {
          "base_uri": "https://localhost:8080/"
        },
        "id": "2-50sLJbM6GX",
        "outputId": "123fa873-197a-47db-a014-77c29c0a33fc"
      },
      "execution_count": 3,
      "outputs": [
        {
          "output_type": "stream",
          "name": "stdout",
          "text": [
            "[15, 23]\n"
          ]
        }
      ]
    },
    {
      "cell_type": "markdown",
      "source": [
        "##1.3"
      ],
      "metadata": {
        "id": "n9pNW0GWM-xd"
      }
    },
    {
      "cell_type": "code",
      "source": [
        "encoded_lists=[]\n",
        "l1=int(input(\"Number of lists:\"))\n",
        "for i in range(0,l1):\n",
        "    sublists=[]\n",
        "    l2=int(input(\"Number of elements in this sublist:\"))\n",
        "    for i in range(0,l2):\n",
        "        ele=int(input())\n",
        "        sublists.append(ele)\n",
        "    encoded_lists.append(sublists)\n",
        "\n",
        "\n",
        "print(encoded_lists)"
      ],
      "metadata": {
        "colab": {
          "base_uri": "https://localhost:8080/"
        },
        "id": "NHPjNkLGNNbs",
        "outputId": "a3c7f343-bf11-4d77-9a67-b6a6c030fbc5"
      },
      "execution_count": 6,
      "outputs": [
        {
          "output_type": "stream",
          "name": "stdout",
          "text": [
            "Number of lists:3\n",
            "Number of elements in this sublist:4\n",
            "1\n",
            "2\n",
            "3\n",
            "6\n",
            "Number of elements in this sublist:3\n",
            "2\n",
            "3\n",
            "4\n",
            "Number of elements in this sublist:6\n",
            "7\n",
            "8\n",
            "9\n",
            "4\n",
            "3\n",
            "6\n",
            "[[1, 2, 3, 6], [2, 3, 4], [7, 8, 9, 4, 3, 6]]\n"
          ]
        }
      ]
    },
    {
      "cell_type": "code",
      "source": [
        "def explode_chains(encoded_lists):\n",
        "    def delete_sequence(chain):\n",
        "        new_chain = []\n",
        "        count = 1\n",
        "\n",
        "        for i in range(1, len(chain)):\n",
        "            if chain[i] == chain[i - 1] + 1:\n",
        "                count += 1\n",
        "            else:\n",
        "                if count < 3:\n",
        "                    new_chain.extend(chain[i - count:i])\n",
        "                count = 1\n",
        "\n",
        "        if count < 3:\n",
        "            new_chain.extend(chain[-count:])\n",
        "\n",
        "        return new_chain\n",
        "\n",
        "    exploded_lists = []\n",
        "\n",
        "    for encoded_chain in encoded_lists:\n",
        "        chain = encoded_chain[:]\n",
        "\n",
        "        while True:\n",
        "            new_chain = delete_sequence(chain)\n",
        "            if len(new_chain) == len(chain):\n",
        "                break\n",
        "            chain = new_chain\n",
        "\n",
        "        exploded_lists.append(chain)\n",
        "\n",
        "    return exploded_lists\n",
        "\n",
        "\n",
        "exploded_lists = explode_chains(encoded_lists)\n",
        "for chain in exploded_lists:\n",
        "    print(chain)"
      ],
      "metadata": {
        "colab": {
          "base_uri": "https://localhost:8080/"
        },
        "id": "XpYK0UTeNpbd",
        "outputId": "6d158127-7bef-464d-ad12-66f5565b1221"
      },
      "execution_count": 7,
      "outputs": [
        {
          "output_type": "stream",
          "name": "stdout",
          "text": [
            "[6]\n",
            "[]\n",
            "[4, 3, 6]\n"
          ]
        }
      ]
    },
    {
      "cell_type": "markdown",
      "source": [
        "##1.4"
      ],
      "metadata": {
        "id": "vTX94MkyNss2"
      }
    },
    {
      "cell_type": "code",
      "source": [
        "import random\n",
        "\n",
        "class ChessPlayer:\n",
        "    def __init__(self, name, age, ELO, tenacity, isBoring):\n",
        "        self.name = name\n",
        "        self.ELO = ELO\n",
        "        self.tenacity = tenacity\n",
        "        self.isBoring = isBoring\n",
        "        self.score = 0\n",
        "\n",
        "    def calculate_score(self, opponent):\n",
        "        elo_diff = abs(self.ELO - opponent.ELO)\n",
        "\n",
        "        if elo_diff > 100:\n",
        "            self.score += 1 if self.ELO > opponent.ELO else 0\n",
        "            opponent.score += 1 if opponent.ELO > self.ELO else 0\n",
        "        elif 50 < elo_diff <= 100:\n",
        "            lower_elo_product = random.randint(1, 10) * self.tenacity\n",
        "            self.score += 1 if lower_elo_product > opponent.ELO else 0\n",
        "            opponent.score += 1 if opponent.ELO > lower_elo_product else 0\n",
        "        else:\n",
        "            self.score += 1 if self.tenacity > opponent.tenacity else 0\n",
        "            opponent.score += 1 if opponent.tenacity > self.tenacity else 0\n",
        "\n",
        "        if self.isBoring or opponent.isBoring:\n",
        "            if elo_diff <= 100:\n",
        "                self.score += 0.5\n",
        "                opponent.score += 0.5\n",
        "\n",
        "\n",
        "\n",
        "\n",
        "import random\n",
        "\n",
        "\n",
        "players = [\n",
        "    ChessPlayer(\"Courage\", 25, 1000.39, 1000, False),\n",
        "    ChessPlayer(\"Peach\", 23, 945.65, 50, True),\n",
        "    ChessPlayer(\"Heisenberg\", 50, 1650.73, 750, False),\n",
        "    ChessPlayer(\"Rory\", 16, 1700.87, 500, False),\n",
        "    ChessPlayer(\"Fantano\", 37, 1400.45, 400, True),\n",
        "    ChessPlayer(\"Beth\", 20, 2500.34, 150, False)\n",
        "]\n",
        "\n",
        "class ChessPlayer:\n",
        "    def __init__(self, name, age, ELO, tenacity, isBoring):\n",
        "        self.name = name\n",
        "        self.ELO = ELO\n",
        "        self.tenacity = tenacity\n",
        "        self.isBoring = isBoring\n",
        "        self.score = 0\n",
        "\n",
        "    def calculate_score(self, opponent):\n",
        "        elo_diff = abs(self.ELO - opponent.ELO)\n",
        "\n",
        "        if elo_diff > 100:\n",
        "            self.score += 1 if self.ELO > opponent.ELO else 0\n",
        "            opponent.score += 1 if opponent.ELO > self.ELO else 0\n",
        "        elif 50 < elo_diff <= 100:\n",
        "            lower_elo_product = random.randint(1, 10) * self.tenacity\n",
        "            self.score += 1 if lower_elo_product > opponent.ELO else 0\n",
        "            opponent.score += 1 if opponent.ELO > lower_elo_product else 0\n",
        "        else:\n",
        "            self.score += 1 if self.tenacity > opponent.tenacity else 0\n",
        "            opponent.score += 1 if opponent.tenacity > self.tenacity else 0\n",
        "\n",
        "        if self.isBoring or opponent.isBoring:\n",
        "            if elo_diff <= 100:\n",
        "                self.score += 0.5\n",
        "                opponent.score += 0.5\n",
        "\n",
        "def simulate_tournament(players):\n",
        "    for i in range(len(players)):\n",
        "        for j in range(i + 1, len(players)):\n",
        "            players[i].calculate_score(players[j])\n",
        "            players[j].calculate_score(players[i])\n",
        "\n",
        "def print_tournament_results(players):\n",
        "    print(\"Tournament Results:\")\n",
        "    print(\"{:<25} {:<10}\".format(\"Player\", \"Score\"))\n",
        "    print(\"-\" * 35)\n",
        "    for player in players:\n",
        "        print(\"{:<25} {:<10}\".format(player.name, player.score))\n",
        "\n",
        "\n",
        "\n",
        "simulate_tournament(players)\n",
        "\n",
        "\n",
        "print_tournament_results(players)\n",
        "\n"
      ],
      "metadata": {
        "colab": {
          "base_uri": "https://localhost:8080/"
        },
        "id": "rdxwsZIDNt5f",
        "outputId": "2b2e07f7-c04a-449e-bcbd-573974dfe1bf"
      },
      "execution_count": 5,
      "outputs": [
        {
          "output_type": "stream",
          "name": "stdout",
          "text": [
            "Tournament Results:\n",
            "Player                    Score     \n",
            "-----------------------------------\n",
            "Courage                   3.0       \n",
            "Peach                     1.0       \n",
            "Heisenberg                7         \n",
            "Rory                      7         \n",
            "Fantano                   4         \n",
            "Beth                      10        \n"
          ]
        }
      ]
    }
  ]
}